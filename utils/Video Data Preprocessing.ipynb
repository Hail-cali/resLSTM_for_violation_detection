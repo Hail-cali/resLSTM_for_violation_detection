{
 "cells": [
  {
   "cell_type": "markdown",
   "metadata": {},
   "source": [
    "# 0. Directory Setting & Variables"
   ]
  },
  {
   "cell_type": "code",
   "execution_count": null,
   "metadata": {},
   "outputs": [],
   "source": [
    "import os\n",
    "from xml.etree.ElementTree import parse\n",
    "import numpy as np\n",
    "import cv2\n",
    "from tqdm import tqdm"
   ]
  },
  {
   "cell_type": "code",
   "execution_count": null,
   "metadata": {},
   "outputs": [],
   "source": [
    "original_dir = 'E:/data/original/' # 비디오/xml 파일을 불러올 경로\n",
    "# frame_dir = 'E:/data/frame/' # frame을 저장할 경로\n",
    "target_dir = 'E:/data/target/' # crop한 비디오를 저장할 경로\n",
    "\n",
    "# 비디오 카테고리 지정 ('wander', 'fight', 'datefight')\n",
    "cat_name = 'dump'\n",
    "# 추출할 action 카테고리 지정 ('stop and go', 'punching')\n",
    "action_name = 'drop'\n",
    "# 추출할 frame 개수 지정 (위 MEMO 보고 action 종류에 따라 다르게 설정하기)\n",
    "how_many_frame = 100"
   ]
  },
  {
   "cell_type": "code",
   "execution_count": null,
   "metadata": {},
   "outputs": [],
   "source": [
    "vid_lst = [] # video 리스트\n",
    "xml_lst = [] # xml 리스트\n",
    "\n",
    "for file in os.listdir(original_dir + 'original_' + cat_name):\n",
    "    if 'mp4' in file:\n",
    "        vid_lst.append(file)\n",
    "    else:\n",
    "        xml_lst.append(file)\n",
    "        \n",
    "vid_lst, xml_lst"
   ]
  },
  {
   "cell_type": "markdown",
   "metadata": {},
   "source": [
    "# 1. Extract Frames and Save as a Video"
   ]
  },
  {
   "cell_type": "code",
   "execution_count": null,
   "metadata": {},
   "outputs": [],
   "source": [
    "# 1. EXTRACT VIDEO INFO\n",
    "\n",
    "for video_name in tqdm(vid_lst):\n",
    "    \n",
    "    begin_frame = -1\n",
    "    xml_name = original_dir + 'original_' + cat_name + '/' + video_name.replace(\".mp4\", \".xml\")\n",
    "#     print(video_name, xml_name)\n",
    "    \n",
    "    tree = parse(xml_name)\n",
    "    root = tree.getroot() # root tag: annotation\n",
    "    \n",
    "    # video_len(초) 계산\n",
    "    header = root.find(\"header\")\n",
    "    duration = header.find(\"duration\").text.split(\":\")\n",
    "    for item in duration:\n",
    "        if duration[0] != '00': # duration이 1시간 이상일 경우\n",
    "            video_len = float(duration[0])*3600 + float(duration[1])*60 + float(duration[-1])\n",
    "        else: # duration이 1시간 미만일 경우\n",
    "            video_len = float(duration[1])*60 + float(duration[-1])\n",
    "    fps = int(header.find(\"fps\").text)\n",
    "\n",
    "    # action tag\n",
    "    object_ = root.find(\"object\")\n",
    "    action = object_.findall(\"action\")\n",
    "    \n",
    "    # 가장 첫 번째로 등장하는 action에 대해 frame index 추출\n",
    "    for act in action:\n",
    "        if act.find(\"actionname\").text == action_name:\n",
    "            frame_lst = act.findall(\"frame\")\n",
    "            for frame in frame_lst:\n",
    "                begin_frame, end_frame = int(frame.find(\"start\").text), int(frame.find(\"end\").text)\n",
    "                if end_frame - begin_frame >= how_many_frame: # 추출할 수 있는 frame 수가 100 이상인 경우에만 비디오에서 frame 추출\n",
    "                    print(video_len, fps, begin_frame, end_frame)\n",
    "                    break\n",
    "                else:\n",
    "                    continue\n",
    "        \n",
    "    # ------------------------------\n",
    "    # 2. EXTRACT FRAMES AND SAVE AS A VIDEO\n",
    "        \n",
    "    if begin_frame > 0:\n",
    "\n",
    "        cap = cv2.VideoCapture(original_dir + 'original_' + cat_name + '/' + video_name)\n",
    "        count = begin_frame\n",
    "\n",
    "        # cap의 시작 frame idx 설정\n",
    "        cap.set(cv2.CAP_PROP_POS_FRAMES, begin_frame)\n",
    "\n",
    "        # 코덱 설정\n",
    "        fourcc = cv2.VideoWriter_fourcc(*'XVID')\n",
    "\n",
    "        # frame 저장을 위한 영상 생성\n",
    "        out1 = cv2.VideoWriter(target_dir + 'target_' + cat_name + '/color/' + action_name + video_name,\\\n",
    "                               fourcc, fps, (640, 360))\n",
    "        out2 = cv2.VideoWriter(target_dir + 'target_' + cat_name + '/gray/' + action_name + video_name,\\\n",
    "                               fourcc, fps, (640, 360), isColor=False)\n",
    "\n",
    "        # Extract 100 frames and save as a video\n",
    "        while cap.isOpened() and count <= begin_frame + (how_many_frame-1):\n",
    "            ret, frame = cap.read()\n",
    "\n",
    "            if not ret:\n",
    "                print(f'==ERROR: UNABLE TO READ FRAMES, VIDEO_NAME: {video_name}==')\n",
    "                break\n",
    "\n",
    "            frame = cv2.resize(frame, (640, 360))\n",
    "#             cv2.imshow(video_name, frame)\n",
    "            cv2.waitKey(25)\n",
    "\n",
    "            out1.write(frame)\n",
    "\n",
    "            # Get rid of color\n",
    "            gray = cv2.cvtColor(frame, cv2.COLOR_BGR2GRAY)\n",
    "            out2.write(gray)\n",
    "\n",
    "            # print extracted frame number\n",
    "    #         if(int(cap.get(1)) % 1 == 0):\n",
    "    #             print(f'Extracted frame number: {str(int(cap.get(1)))}')\n",
    "            count += 1\n",
    "\n",
    "            # 추출된 이미지 저장\n",
    "    #         cv2.imwrite(frame_dir + f'{video_name.replace(\".mp4\", \"\")} + \"_\" + frame{count}\" + \".jpg\", frame')\n",
    "\n",
    "        # 객체 해제\n",
    "        cap.release()\n",
    "        out1.release()\n",
    "        out2.release()\n",
    "        cv2.destroyAllWindows()\n",
    "        \n",
    "    else:\n",
    "        print(f'==NO BEGIN FRAME FOUND, VIDEO_NAME: {video_name}==')\n",
    "        continue"
   ]
  }
 ],
 "metadata": {
  "kernelspec": {
   "display_name": "Python 3",
   "language": "python",
   "name": "python3"
  },
  "language_info": {
   "codemirror_mode": {
    "name": "ipython",
    "version": 3
   },
   "file_extension": ".py",
   "mimetype": "text/x-python",
   "name": "python",
   "nbconvert_exporter": "python",
   "pygments_lexer": "ipython3",
   "version": "3.8.5"
  }
 },
 "nbformat": 4,
 "nbformat_minor": 4
}