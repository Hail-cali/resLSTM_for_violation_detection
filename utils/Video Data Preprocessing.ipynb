{
 "cells": [
  {
   "cell_type": "markdown",
   "metadata": {},
   "source": [
    "# 0. Directory Setting & Variables"
   ]
  },
  {
   "cell_type": "code",
   "execution_count": 1,
   "metadata": {},
   "outputs": [],
   "source": [
    "import os\n",
    "from xml.etree.ElementTree import parse\n",
    "import numpy as np\n",
    "import cv2\n",
    "from tqdm import tqdm"
   ]
  },
  {
   "cell_type": "code",
   "execution_count": 5,
   "metadata": {},
   "outputs": [],
   "source": [
    "original_dir = 'E:/data/original/' # 비디오/xml 파일을 불러올 경로\n",
    "# frame_dir = 'E:/data/frame/' # frame을 저장할 경로\n",
    "target_dir = 'E:/data/target/' # crop한 비디오를 저장할 경로\n",
    "\n",
    "# 비디오 카테고리 지정 ('wander', 'fight', 'datefight')\n",
    "cat_name = 'dump'\n",
    "# 추출할 action 카테고리 지정 ('stop and go', 'punching')\n",
    "action_name = 'drop'\n",
    "# 추출할 frame 개수 지정 (위 MEMO 보고 action 종류에 따라 다르게 설정하기)\n",
    "how_many_frame = 100"
   ]
  },
  {
   "cell_type": "code",
   "execution_count": 6,
   "metadata": {},
   "outputs": [
    {
     "data": {
      "text/plain": [
       "(['162-3_cam01_dump02_place04_night_spring.mp4',\n",
       "  '162-3_cam01_dump02_place04_night_summer.mp4',\n",
       "  '162-3_cam02_dump02_place04_night_spring.mp4',\n",
       "  '162-3_cam02_dump02_place04_night_summer.mp4',\n",
       "  '162-4_cam01_dump02_place04_night_spring.mp4',\n",
       "  '162-4_cam01_dump02_place04_night_summer.mp4',\n",
       "  '162-4_cam02_dump02_place04_night_spring.mp4',\n",
       "  '162-4_cam02_dump02_place04_night_summer.mp4',\n",
       "  '162-5_cam01_dump02_place04_night_spring.mp4',\n",
       "  '162-5_cam01_dump02_place04_night_summer.mp4',\n",
       "  '162-5_cam02_dump02_place04_night_spring.mp4',\n",
       "  '162-5_cam02_dump02_place04_night_summer.mp4',\n",
       "  '162-6_cam01_dump02_place04_night_spring.mp4',\n",
       "  '162-6_cam01_dump02_place04_night_summer.mp4',\n",
       "  '162-6_cam02_dump02_place04_night_spring.mp4',\n",
       "  '162-6_cam02_dump02_place04_night_summer.mp4',\n",
       "  '163-1_cam01_dump02_place09_night_spring.mp4',\n",
       "  '163-1_cam01_dump02_place09_night_summer.mp4',\n",
       "  '163-1_cam02_dump02_place09_night_spring.mp4',\n",
       "  '163-1_cam02_dump02_place09_night_summer.mp4',\n",
       "  '163-2_cam01_dump02_place09_night_spring.mp4',\n",
       "  '163-2_cam01_dump02_place09_night_summer.mp4',\n",
       "  '163-2_cam02_dump02_place09_night_spring.mp4',\n",
       "  '163-2_cam02_dump02_place09_night_summer.mp4',\n",
       "  '163-3_cam01_dump02_place09_night_spring.mp4',\n",
       "  '163-3_cam01_dump02_place09_night_summer.mp4',\n",
       "  '163-3_cam02_dump02_place09_night_spring.mp4',\n",
       "  '163-3_cam02_dump02_place09_night_summer.mp4',\n",
       "  '163-4_cam01_dump02_place09_night_spring.mp4',\n",
       "  '163-4_cam01_dump02_place09_night_summer.mp4',\n",
       "  '163-4_cam02_dump02_place09_night_spring.mp4',\n",
       "  '163-4_cam02_dump02_place09_night_summer.mp4',\n",
       "  '163-5_cam01_dump02_place09_night_spring.mp4',\n",
       "  '163-5_cam01_dump02_place09_night_summer.mp4',\n",
       "  '163-5_cam02_dump02_place09_night_spring.mp4',\n",
       "  '163-5_cam02_dump02_place09_night_summer.mp4',\n",
       "  '163-6_cam01_dump02_place09_night_spring.mp4',\n",
       "  '163-6_cam01_dump02_place09_night_summer.mp4',\n",
       "  '163-6_cam02_dump02_place09_night_spring.mp4',\n",
       "  '163-6_cam02_dump02_place09_night_summer.mp4',\n",
       "  '164-1_cam01_dump02_place03_day_spring.mp4',\n",
       "  '164-1_cam01_dump02_place03_day_summer.mp4',\n",
       "  '164-1_cam02_dump02_place03_day_spring.mp4',\n",
       "  '164-1_cam02_dump02_place03_day_summer.mp4',\n",
       "  '164-2_cam01_dump02_place03_day_spring.mp4',\n",
       "  '164-2_cam01_dump02_place03_day_summer.mp4',\n",
       "  '164-2_cam02_dump02_place03_day_spring.mp4',\n",
       "  '164-2_cam02_dump02_place03_day_summer.mp4',\n",
       "  '164-3_cam01_dump02_place03_day_spring.mp4',\n",
       "  '164-3_cam01_dump02_place03_day_summer.mp4',\n",
       "  '164-3_cam02_dump02_place03_day_spring.mp4',\n",
       "  '164-3_cam02_dump02_place03_day_summer.mp4',\n",
       "  '164-4_cam01_dump02_place03_day_spring.mp4',\n",
       "  '164-4_cam01_dump02_place03_day_summer.mp4',\n",
       "  '164-4_cam02_dump02_place03_day_spring.mp4',\n",
       "  '164-4_cam02_dump02_place03_day_summer.mp4'],\n",
       " ['162-3_cam01_dump02_place04_night_spring.xml',\n",
       "  '162-3_cam01_dump02_place04_night_summer.xml',\n",
       "  '162-3_cam02_dump02_place04_night_spring.xml',\n",
       "  '162-3_cam02_dump02_place04_night_summer.xml',\n",
       "  '162-4_cam01_dump02_place04_night_spring.xml',\n",
       "  '162-4_cam01_dump02_place04_night_summer.xml',\n",
       "  '162-4_cam02_dump02_place04_night_spring.xml',\n",
       "  '162-4_cam02_dump02_place04_night_summer.xml',\n",
       "  '162-5_cam01_dump02_place04_night_spring.xml',\n",
       "  '162-5_cam01_dump02_place04_night_summer.xml',\n",
       "  '162-5_cam02_dump02_place04_night_spring.xml',\n",
       "  '162-5_cam02_dump02_place04_night_summer.xml',\n",
       "  '162-6_cam01_dump02_place04_night_spring.xml',\n",
       "  '162-6_cam01_dump02_place04_night_summer.xml',\n",
       "  '162-6_cam02_dump02_place04_night_spring.xml',\n",
       "  '162-6_cam02_dump02_place04_night_summer.xml',\n",
       "  '163-1_cam01_dump02_place09_night_spring.xml',\n",
       "  '163-1_cam01_dump02_place09_night_summer.xml',\n",
       "  '163-1_cam02_dump02_place09_night_spring.xml',\n",
       "  '163-1_cam02_dump02_place09_night_summer.xml',\n",
       "  '163-2_cam01_dump02_place09_night_spring.xml',\n",
       "  '163-2_cam01_dump02_place09_night_summer.xml',\n",
       "  '163-2_cam02_dump02_place09_night_spring.xml',\n",
       "  '163-2_cam02_dump02_place09_night_summer.xml',\n",
       "  '163-3_cam01_dump02_place09_night_spring.xml',\n",
       "  '163-3_cam01_dump02_place09_night_summer.xml',\n",
       "  '163-3_cam02_dump02_place09_night_spring.xml',\n",
       "  '163-3_cam02_dump02_place09_night_summer.xml',\n",
       "  '163-4_cam01_dump02_place09_night_spring.xml',\n",
       "  '163-4_cam01_dump02_place09_night_summer.xml',\n",
       "  '163-4_cam02_dump02_place09_night_spring.xml',\n",
       "  '163-4_cam02_dump02_place09_night_summer.xml',\n",
       "  '163-5_cam01_dump02_place09_night_spring.xml',\n",
       "  '163-5_cam01_dump02_place09_night_summer.xml',\n",
       "  '163-5_cam02_dump02_place09_night_spring.xml',\n",
       "  '163-5_cam02_dump02_place09_night_summer.xml',\n",
       "  '163-6_cam01_dump02_place09_night_spring.xml',\n",
       "  '163-6_cam01_dump02_place09_night_summer.xml',\n",
       "  '163-6_cam02_dump02_place09_night_spring.xml',\n",
       "  '163-6_cam02_dump02_place09_night_summer.xml',\n",
       "  '164-1_cam01_dump02_place03_day_spring.xml',\n",
       "  '164-1_cam01_dump02_place03_day_summer.xml',\n",
       "  '164-1_cam02_dump02_place03_day_spring.xml',\n",
       "  '164-1_cam02_dump02_place03_day_summer.xml',\n",
       "  '164-2_cam01_dump02_place03_day_spring.xml',\n",
       "  '164-2_cam01_dump02_place03_day_summer.xml',\n",
       "  '164-2_cam02_dump02_place03_day_spring.xml',\n",
       "  '164-2_cam02_dump02_place03_day_summer.xml',\n",
       "  '164-3_cam01_dump02_place03_day_spring.xml',\n",
       "  '164-3_cam01_dump02_place03_day_summer.xml',\n",
       "  '164-3_cam02_dump02_place03_day_spring.xml',\n",
       "  '164-3_cam02_dump02_place03_day_summer.xml',\n",
       "  '164-4_cam01_dump02_place03_day_spring.xml',\n",
       "  '164-4_cam01_dump02_place03_day_summer.xml',\n",
       "  '164-4_cam02_dump02_place03_day_spring.xml',\n",
       "  '164-4_cam02_dump02_place03_day_summer.xml'])"
      ]
     },
     "execution_count": 6,
     "metadata": {},
     "output_type": "execute_result"
    }
   ],
   "source": [
    "vid_lst = [] # video 리스트\n",
    "xml_lst = [] # xml 리스트\n",
    "\n",
    "for file in os.listdir(original_dir + 'original_' + cat_name):\n",
    "    if 'mp4' in file:\n",
    "        vid_lst.append(file)\n",
    "    else:\n",
    "        xml_lst.append(file)\n",
    "        \n",
    "vid_lst, xml_lst"
   ]
  },
  {
   "cell_type": "markdown",
   "metadata": {},
   "source": [
    "# 1. Extract Frames and Save as a Video"
   ]
  },
  {
   "cell_type": "code",
   "execution_count": 7,
   "metadata": {},
   "outputs": [
    {
     "name": "stderr",
     "output_type": "stream",
     "text": [
      "  7%|███                                        | 4/56 [00:56<12:38, 14.59s/it]"
     ]
    },
    {
     "name": "stdout",
     "output_type": "stream",
     "text": [
      "240.0 30 5740 5869\n"
     ]
    },
    {
     "name": "stderr",
     "output_type": "stream",
     "text": [
      "\r",
      "  9%|███▊                                       | 5/56 [01:09<12:01, 14.16s/it]"
     ]
    },
    {
     "name": "stdout",
     "output_type": "stream",
     "text": [
      "==NO BEGIN FRAME FOUND, VIDEO_NAME: 162-4_cam01_dump02_place04_night_summer.mp4==\n",
      "==NO BEGIN FRAME FOUND, VIDEO_NAME: 162-4_cam02_dump02_place04_night_spring.mp4==\n"
     ]
    },
    {
     "name": "stderr",
     "output_type": "stream",
     "text": [
      " 16%|██████▉                                    | 9/56 [01:35<09:08, 11.67s/it]"
     ]
    },
    {
     "name": "stdout",
     "output_type": "stream",
     "text": [
      "==NO BEGIN FRAME FOUND, VIDEO_NAME: 162-5_cam01_dump02_place04_night_summer.mp4==\n"
     ]
    },
    {
     "name": "stderr",
     "output_type": "stream",
     "text": [
      "\r",
      " 20%|████████▎                                 | 11/56 [01:48<07:38, 10.19s/it]"
     ]
    },
    {
     "name": "stdout",
     "output_type": "stream",
     "text": [
      "240.0 30 5063 5243\n"
     ]
    },
    {
     "name": "stderr",
     "output_type": "stream",
     "text": [
      "\r",
      " 21%|█████████                                 | 12/56 [02:01<08:05, 11.03s/it]"
     ]
    },
    {
     "name": "stdout",
     "output_type": "stream",
     "text": [
      "240.0 30 6169 6274\n"
     ]
    },
    {
     "name": "stderr",
     "output_type": "stream",
     "text": [
      "\r",
      " 23%|█████████▊                                | 13/56 [02:14<08:13, 11.48s/it]"
     ]
    },
    {
     "name": "stdout",
     "output_type": "stream",
     "text": [
      "240.0 30 6185 6293\n"
     ]
    },
    {
     "name": "stderr",
     "output_type": "stream",
     "text": [
      " 34%|██████████████▎                           | 19/56 [03:35<08:17, 13.45s/it]"
     ]
    },
    {
     "name": "stdout",
     "output_type": "stream",
     "text": [
      "341.3 30 8531 8652\n"
     ]
    },
    {
     "name": "stderr",
     "output_type": "stream",
     "text": [
      " 41%|█████████████████▎                        | 23/56 [04:29<07:23, 13.43s/it]"
     ]
    },
    {
     "name": "stdout",
     "output_type": "stream",
     "text": [
      "366.3 30 9253 9371\n"
     ]
    },
    {
     "name": "stderr",
     "output_type": "stream",
     "text": [
      " 50%|█████████████████████                     | 28/56 [04:41<04:15,  9.12s/it]"
     ]
    },
    {
     "name": "stdout",
     "output_type": "stream",
     "text": [
      "==NO BEGIN FRAME FOUND, VIDEO_NAME: 163-3_cam01_dump02_place09_night_spring.mp4==\n",
      "==NO BEGIN FRAME FOUND, VIDEO_NAME: 163-3_cam01_dump02_place09_night_summer.mp4==\n",
      "==NO BEGIN FRAME FOUND, VIDEO_NAME: 163-3_cam02_dump02_place09_night_spring.mp4==\n",
      "==NO BEGIN FRAME FOUND, VIDEO_NAME: 163-3_cam02_dump02_place09_night_summer.mp4==\n",
      "==NO BEGIN FRAME FOUND, VIDEO_NAME: 163-4_cam01_dump02_place09_night_spring.mp4==\n",
      "==NO BEGIN FRAME FOUND, VIDEO_NAME: 163-4_cam01_dump02_place09_night_summer.mp4==\n"
     ]
    },
    {
     "name": "stderr",
     "output_type": "stream",
     "text": [
      "\r",
      " 55%|███████████████████████▎                  | 31/56 [04:53<03:09,  7.59s/it]"
     ]
    },
    {
     "name": "stdout",
     "output_type": "stream",
     "text": [
      "==NO BEGIN FRAME FOUND, VIDEO_NAME: 163-4_cam02_dump02_place09_night_summer.mp4==\n",
      "==NO BEGIN FRAME FOUND, VIDEO_NAME: 163-5_cam01_dump02_place09_night_spring.mp4==\n",
      "==NO BEGIN FRAME FOUND, VIDEO_NAME: 163-5_cam01_dump02_place09_night_summer.mp4==\n",
      "==NO BEGIN FRAME FOUND, VIDEO_NAME: 163-5_cam02_dump02_place09_night_spring.mp4==\n",
      "==NO BEGIN FRAME FOUND, VIDEO_NAME: 163-5_cam02_dump02_place09_night_summer.mp4==\n"
     ]
    },
    {
     "name": "stderr",
     "output_type": "stream",
     "text": [
      " 77%|████████████████████████████████▎         | 43/56 [06:17<02:33, 11.80s/it]"
     ]
    },
    {
     "name": "stdout",
     "output_type": "stream",
     "text": [
      "285.1 30 7161 7317\n"
     ]
    },
    {
     "name": "stderr",
     "output_type": "stream",
     "text": [
      " 89%|█████████████████████████████████████▌    | 50/56 [07:52<01:25, 14.33s/it]"
     ]
    },
    {
     "name": "stdout",
     "output_type": "stream",
     "text": [
      "==NO BEGIN FRAME FOUND, VIDEO_NAME: 164-3_cam02_dump02_place03_day_spring.mp4==\n"
     ]
    },
    {
     "name": "stderr",
     "output_type": "stream",
     "text": [
      "100%|██████████████████████████████████████████| 56/56 [09:02<00:00,  9.69s/it]\n"
     ]
    }
   ],
   "source": [
    "# 1. EXTRACT VIDEO INFO\n",
    "\n",
    "for video_name in tqdm(vid_lst):\n",
    "    \n",
    "    begin_frame = -1\n",
    "    xml_name = original_dir + 'original_' + cat_name + '/' + video_name.replace(\".mp4\", \".xml\")\n",
    "#     print(video_name, xml_name)\n",
    "    \n",
    "    tree = parse(xml_name)\n",
    "    root = tree.getroot() # root tag: annotation\n",
    "    \n",
    "    # video_len(초) 계산\n",
    "    header = root.find(\"header\")\n",
    "    duration = header.find(\"duration\").text.split(\":\")\n",
    "    for item in duration:\n",
    "        if duration[0] != '00': # duration이 1시간 이상일 경우\n",
    "            video_len = float(duration[0])*3600 + float(duration[1])*60 + float(duration[-1])\n",
    "        else: # duration이 1시간 미만일 경우\n",
    "            video_len = float(duration[1])*60 + float(duration[-1])\n",
    "    fps = int(header.find(\"fps\").text)\n",
    "\n",
    "    # action tag\n",
    "    object_ = root.find(\"object\")\n",
    "    action = object_.findall(\"action\")\n",
    "    \n",
    "    # 가장 첫 번째로 등장하는 action에 대해 frame index 추출\n",
    "    for act in action:\n",
    "        if act.find(\"actionname\").text == action_name:\n",
    "            frame_lst = act.findall(\"frame\")\n",
    "            for frame in frame_lst:\n",
    "                begin_frame, end_frame = int(frame.find(\"start\").text), int(frame.find(\"end\").text)\n",
    "                if end_frame - begin_frame >= how_many_frame: # 추출할 수 있는 frame 수가 100 이상인 경우에만 비디오에서 frame 추출\n",
    "                    print(video_len, fps, begin_frame, end_frame)\n",
    "                    break\n",
    "                else:\n",
    "                    continue\n",
    "        \n",
    "    # ------------------------------\n",
    "    # 2. EXTRACT FRAMES AND SAVE AS A VIDEO\n",
    "        \n",
    "    if begin_frame > 0:\n",
    "\n",
    "        cap = cv2.VideoCapture(original_dir + 'original_' + cat_name + '/' + video_name)\n",
    "        count = begin_frame\n",
    "\n",
    "        # cap의 시작 frame idx 설정\n",
    "        cap.set(cv2.CAP_PROP_POS_FRAMES, begin_frame)\n",
    "\n",
    "        # 코덱 설정\n",
    "        fourcc = cv2.VideoWriter_fourcc(*'XVID')\n",
    "\n",
    "        # frame 저장을 위한 영상 생성\n",
    "        out1 = cv2.VideoWriter(target_dir + 'target_' + cat_name + '/color/' + action_name + video_name,\\\n",
    "                               fourcc, fps, (640, 360))\n",
    "        out2 = cv2.VideoWriter(target_dir + 'target_' + cat_name + '/gray/' + action_name + video_name,\\\n",
    "                               fourcc, fps, (640, 360), isColor=False)\n",
    "\n",
    "        # Extract 100 frames and save as a video\n",
    "        while cap.isOpened() and count <= begin_frame + (how_many_frame-1):\n",
    "            ret, frame = cap.read()\n",
    "\n",
    "            if not ret:\n",
    "                print(f'==ERROR: UNABLE TO READ FRAMES, VIDEO_NAME: {video_name}==')\n",
    "                break\n",
    "\n",
    "            frame = cv2.resize(frame, (640, 360))\n",
    "#             cv2.imshow(video_name, frame)\n",
    "            cv2.waitKey(25)\n",
    "\n",
    "            out1.write(frame)\n",
    "\n",
    "            # Get rid of color\n",
    "            gray = cv2.cvtColor(frame, cv2.COLOR_BGR2GRAY)\n",
    "            out2.write(gray)\n",
    "\n",
    "            # print extracted frame number\n",
    "    #         if(int(cap.get(1)) % 1 == 0):\n",
    "    #             print(f'Extracted frame number: {str(int(cap.get(1)))}')\n",
    "            count += 1\n",
    "\n",
    "            # 추출된 이미지 저장\n",
    "    #         cv2.imwrite(frame_dir + f'{video_name.replace(\".mp4\", \"\")} + \"_\" + frame{count}\" + \".jpg\", frame')\n",
    "\n",
    "        # 객체 해제\n",
    "        cap.release()\n",
    "        out1.release()\n",
    "        out2.release()\n",
    "        cv2.destroyAllWindows()\n",
    "        \n",
    "    else:\n",
    "        print(f'==NO BEGIN FRAME FOUND, VIDEO_NAME: {video_name}==')\n",
    "        continue"
   ]
  }
 ],
 "metadata": {
  "kernelspec": {
   "display_name": "Python 3",
   "language": "python",
   "name": "python3"
  },
  "language_info": {
   "codemirror_mode": {
    "name": "ipython",
    "version": 3
   },
   "file_extension": ".py",
   "mimetype": "text/x-python",
   "name": "python",
   "nbconvert_exporter": "python",
   "pygments_lexer": "ipython3",
   "version": "3.8.5"
  }
 },
 "nbformat": 4,
 "nbformat_minor": 4
}
